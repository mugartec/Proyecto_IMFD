{
 "cells": [
  {
   "cell_type": "code",
   "execution_count": 1,
   "metadata": {},
   "outputs": [
    {
     "ename": "ModuleNotFoundError",
     "evalue": "No module named 'functions.py'; 'functions' is not a package",
     "output_type": "error",
     "traceback": [
      "\u001b[0;31m---------------------------------------------------------------------------\u001b[0m",
      "\u001b[0;31mModuleNotFoundError\u001b[0m                       Traceback (most recent call last)",
      "\u001b[0;32m<ipython-input-1-b144b3ecc0ac>\u001b[0m in \u001b[0;36m<module>\u001b[0;34m\u001b[0m\n\u001b[1;32m      4\u001b[0m \u001b[0;32mimport\u001b[0m \u001b[0mmatplotlib\u001b[0m\u001b[0;34m.\u001b[0m\u001b[0mpyplot\u001b[0m \u001b[0;32mas\u001b[0m \u001b[0mplt\u001b[0m\u001b[0;34m\u001b[0m\u001b[0;34m\u001b[0m\u001b[0m\n\u001b[1;32m      5\u001b[0m \u001b[0;32mimport\u001b[0m \u001b[0mpandas\u001b[0m \u001b[0;32mas\u001b[0m \u001b[0mpd\u001b[0m\u001b[0;34m\u001b[0m\u001b[0;34m\u001b[0m\u001b[0m\n\u001b[0;32m----> 6\u001b[0;31m \u001b[0;32mfrom\u001b[0m \u001b[0mfunctions\u001b[0m\u001b[0;34m.\u001b[0m\u001b[0mpy\u001b[0m \u001b[0;32mimport\u001b[0m \u001b[0mplot_contagiadosVsmov\u001b[0m\u001b[0;34m,\u001b[0m \u001b[0mget_all\u001b[0m\u001b[0;34m,\u001b[0m \u001b[0mquarantine_analisis\u001b[0m\u001b[0;34m\u001b[0m\u001b[0;34m\u001b[0m\u001b[0m\n\u001b[0m",
      "\u001b[0;31mModuleNotFoundError\u001b[0m: No module named 'functions.py'; 'functions' is not a package"
     ]
    }
   ],
   "source": [
    "# Importamos paquetes y cosas importantes:\n",
    "\n",
    "from ORM_database import Quarantine, Comuna, TimeSerie\n",
    "import matplotlib.pyplot as plt\n",
    "import pandas as pd\n",
    "from functions.py import plot_contagiadosVsmov, get_all, quarantine_analisis"
   ]
  },
  {
   "cell_type": "markdown",
   "metadata": {},
   "source": [
    "    En primer lugar, mostramos una perspectiva general de la pandemia para algunas comunas. Por simplicidad sólo se escogieron 6: Las Condes, Providencia, Stgo Centro, Pte Alto, La Florida y Quilicura, sin embargo, modificando adecuadamente el archivo que guarda los datos en la base de datos se podría realizar este mismo análisis para otras comunas. Se decidieron escoger las primeras 3 por ser la primera generación de comunas a las cuales se les aplicaron Cuarentenas parciales. Por el otro lado, Pte Alto, La Florida y Quilicura fueron comunas que no tuvieron sus primeras cuarentenas sino hasta mucho después."
   ]
  },
  {
   "cell_type": "code",
   "execution_count": null,
   "metadata": {},
   "outputs": [],
   "source": [
    "plt.rcParams['figure.figsize'] = [15, 15]\n",
    "plt.rcParams.update({'font.size': 12})\n",
    "plot_contagiadosVSmov()\n"
   ]
  },
  {
   "cell_type": "markdown",
   "metadata": {},
   "source": [
    "##### Nota: Como se puede ver, ninguna de las 3 series de tiempo tiene datos completos :(\n",
    "\n",
    "    De lo anterior se puede apreciar que la movilidad disminuyó notablemente alrededor de la quincena de Marzo, que fue justamente cuando decidieron empezar a cerrar colegios y algunas universidades, ya que Chile había entrado en una etapa más avanzada de la pandemia. Llama la atención que las movilidad de Puente Alto se ha mantenido más o menos constante desde principios de Marzo hasta la quincena de Mayo (que es hasta donde llegan los datos). \n",
    "\n",
    "    Por otro lado, llama la atención que si bien Providencia se mantiene con niveles relativamente altos de movilidad con respecto a las demás comunas, también mantiene el menor número de contagiados totales. Y es aún más notable el hecho de que Puente Alto presenta un comportamiento inverso: Tiene niveles más bajos de movilidad con respecto a las otras comunas, y sin embargo presenta un número alto de contagiados. \n",
    "\n",
    "\n",
    "    A continuación pasaremos a analizar algunas de estas comunas para analizar si las cuarentenas fueron efectivas bajo dos parámetros:\n",
    "    1. Disminución de la movilidad (Midiendo la efectividad de la medida restrictiva en si, y si efectivamente sirvió para restringir la movilidad).\n",
    "    2. Disminución efectiva del cambio porcentual de contagiados (Midiendo la efectividad de la medida \"cuarentena\" sobre la pandemia)\n",
    "    \n",
    "    \n",
    "    \n",
    "    Comenzamos analizando Las Condes, que fue una de las primeras comunas en las que se puso cuarentena parcial. En Rojo se muestra el inicio de una cuarentena y en la linea punteada verde el final de esta:"
   ]
  },
  {
   "cell_type": "code",
   "execution_count": null,
   "metadata": {},
   "outputs": [],
   "source": [
    "c_LC, q_LC, m_LC, s_LC = get_all(13114)\n",
    "quarantine_analisis(c_LC, q_LC, m_LC, s_LC, \"Las Condes\")\n",
    "print(\"Cuarentenas Las Condes:\")\n",
    "q_LC"
   ]
  },
  {
   "cell_type": "markdown",
   "metadata": {},
   "source": [
    "#### Nota: Los Casos Nuevos por fecha de Inicio de síntomas se agrupan por \"Semana Epidemiológica\" por lo que no se tienen datos para cada día sino el acumulado por semana, por eso se muestran puntos sobre la línea, que representan el valor al inicio de la semana epidemiológica. \n",
    "\n",
    "    En primer lugar, notamos que, una vez que se decretó la primera cuarentena en esta comuna (27 de Marzo), efectivamente la movilidad de la gente disminuyó y se mantuvo baja hasta el momento en que esta se levanta el día 17 de Abril, desde donde se aprecia un leve aumento de la movilidad. \n",
    "    Por otro lado, después de decretada esta cuarentena también se puede observar que disminuyó el aumento porcentual de la cantidad de contagiados totales. Lamentablemtente, luego de que esta primera cuarentena se levanta comienza a apreciarse un aumento en el porcentaje de casos por día, lo cual también se nota del gráfico de Casos nuevos por fecha de inicio de síntomas.\n",
    "    \n",
    "    Ahora observaremos Providencia, una de las comunas que también fue de las primeras en entrar a cuarentena y en el primer gráfico presentaba una movilidad relativamente alta, y pocos contagiados:\n",
    "    \n",
    "    "
   ]
  },
  {
   "cell_type": "code",
   "execution_count": null,
   "metadata": {},
   "outputs": [],
   "source": [
    "c_PR, q_PR, m_PR, s_PR = get_all(13123)\n",
    "quarantine_analisis(c_PR, q_PR, m_PR, s_PR, \"Providencia\")\n",
    "print(\"Cuarentenas Providencia:\")\n",
    "q_PR"
   ]
  },
  {
   "cell_type": "markdown",
   "metadata": {},
   "source": [
    "    Como se puede ver, esta presenta las mismas cuarenetnnas que Las Condes, y un comportamiento muy parecido en cuanto a la movilidad (La cual disminuye en aproximadamente 15 puntos con respecto a su nivel más alto luego de decretada la primera cuarentena), y en cuanto a número de contagiados (Los cuales bajan luego de decretada la cuarentena y vuelven a aumentar una vez que esta se levanta).\n",
    "    \n",
    "    Analizaremos ahora a Puente Alto, la cual presentaba poca variación en su nivel de movilidad en el gráfico general, además de un gran número de contagiados a la fecha:"
   ]
  },
  {
   "cell_type": "code",
   "execution_count": null,
   "metadata": {},
   "outputs": [],
   "source": [
    "c_PA, q_PA, m_PA, s_PA = get_all(13201)\n",
    "quarantine_analisis(c_PA, q_PA, m_PA, s_PA, \"Puente Alto\")\n",
    "print(\"Cuarentenas Puente Alto:\")\n",
    "q_PA"
   ]
  },
  {
   "cell_type": "markdown",
   "metadata": {},
   "source": [
    "    En primer lugar, notamos que hubieron dos extensiones de cuarentena para esta comuna (representadas por la línea verde punteada sobre la línea roja). \n",
    "    Esta comuna, al igual que las demás, también presenta una disminución de su índice de movilidad a partir de la quincena de Marzo, sin embargo, esta disminución fue de apenas un punto. Además, posterior a que se decreta cuarentena para esta comuna el 10 de Abril podemos ver que la disminución promedio del indice de movilidad tampoco resulta ser muy grande con respecto a las semanas anteriores, y este índice se sigue manteniendo entre 4.5 y 6.\n",
    "    Sin embargo, en lo que respecta al cambio porcentual del número de contagiados de la comuna, podemos notar que este si se mantiene por debajo del peak que se logró antes de decretar la cuarentena. Llama la atención que el número de casos nuevos por inicio de síntomas logra un peak hacia finales de Mayo, pero luego de decretada la tercera cuarentena de la comuna se puede observar que este número disminuye. \n",
    "    \n",
    "    Luego, se podría decir que si bien la cuarentena no limitó la movilidad de la comuna, si logró controlar en cierta medida el aumento porcentual del número de contagiados acumulados, en especial en las últimas semanas.\n",
    "    \n",
    "    \n",
    "    Mostramos ahora el caso de la Florida: "
   ]
  },
  {
   "cell_type": "code",
   "execution_count": null,
   "metadata": {},
   "outputs": [],
   "source": [
    "c_LF, q_LF, m_LF, s_LF = get_all(13110)\n",
    "quarantine_analisis(c_LF, q_LF, m_LF, s_LF, \"La Florida\")\n",
    "print(\"Cuarentenas La Florida:\")\n",
    "q_LF"
   ]
  },
  {
   "cell_type": "markdown",
   "metadata": {},
   "source": [
    "    En el caso de la Florida se tiene que no se decretó cuarentena oficial sino hasta el 9 de Mayo. Aún así, la movilidad de la Florida disminuyó a partir de la quincena de Marzo, y se mantuvo así al menos hasta la quincena de Mayo (que es hasta donde llegan los datos). \n",
    "    Se puede observar también que el cambio porcentual fue aumentando con el paso de las semanas, y que solo empezó a disminuir una vez pasadas al menos la primera semana de cuarentena, por lo que se puede concluir que en esta comuna la cuarentena si fue efectiva y logró disminuir el número de casos. \n",
    "    \n",
    "    Por último, analizamos el caso de Quilicura:\n",
    "    "
   ]
  },
  {
   "cell_type": "code",
   "execution_count": null,
   "metadata": {},
   "outputs": [],
   "source": [
    "c_QU, q_QU, m_QU, s_QU = get_all(13125)\n",
    "quarantine_analisis(c_QU, q_QU, m_QU, s_QU, \"Quilicura\")\n",
    "print(\"Cuarentenas Quilicura:\")\n",
    "q_QU"
   ]
  },
  {
   "cell_type": "markdown",
   "metadata": {},
   "source": [
    "    En el caso de Quilicura, tampoco se declaró cuarentena sino hasta el 6 de Mayo, la cuals se extendió el día 16 de Mayo, como muestra la línea verde punteada sobre la roja. \n",
    "    En este caso notamos un comportamiento parecido al de Puente Alto con respecto a la movilidad, la cual no disminuye demasiado con el paso de los meses, ni siquiera cuando se decreta la cuarentena oficial para la comuna. \n",
    "    Por otro lado, de forma alarmante podemos notar que los primeros días de Mayo esta comuna llegó a un aumento porcentual del 0.8. Es decir que el número de contagiados prácticamente se duplicó con respecto al día anterior. Posterior a esto se decreta la cuarentena y podemos ver que en las semanas siguientes este peak no se supera y el crecimiento porcentual se mantiene por debajo del 0.4. También podemos observar que los casos nuevos por fecha de inicio de síntomas también comienzan a disminuir posterior a la cuarentena.\n",
    "    Finalmente, al igual que en Puente Alto, también se podría concluir que si bien la movilidad no se vió muy afectada, la cuarentena si fue efectiva en disminuir los casos dos semanas después."
   ]
  },
  {
   "cell_type": "markdown",
   "metadata": {},
   "source": [
    "    En conclusión, podemos decir que si bien en algunas comunas como Puente Alto y Quilicura las cuarentenas no han logrado restringir la movilidad, si han sido efectivas en el sentido de que han logrado controlar el aumento porcentual del número de casos una vez que se han decretado. "
   ]
  }
 ],
 "metadata": {
  "kernelspec": {
   "display_name": "firstEnv",
   "language": "python",
   "name": "firstenv"
  },
  "language_info": {
   "codemirror_mode": {
    "name": "ipython",
    "version": 3
   },
   "file_extension": ".py",
   "mimetype": "text/x-python",
   "name": "python",
   "nbconvert_exporter": "python",
   "pygments_lexer": "ipython3",
   "version": "3.8.3"
  }
 },
 "nbformat": 4,
 "nbformat_minor": 2
}
